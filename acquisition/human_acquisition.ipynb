{
 "cells": [
  {
   "cell_type": "markdown",
   "metadata": {},
   "source": [
    "# Acquisition of Image Samples with Human Agent"
   ]
  },
  {
   "cell_type": "markdown",
   "metadata": {},
   "source": [
    "## Introduction\n",
    "Using the Arcade Learning Environment ALE, we acquire frames of Atari games of choice to be further processed.\n",
    "\n",
    "This project will study two envioronments:\n",
    "- Breakout: a simpler game used for testing the processing algortihm\n",
    "- Skiing: a game with more objects in order to test the processing in more complex use cases.\n",
    "\n",
    "This notebook in order to have a faster acquisition plays the games with a human agent. Meaning that the recording of framers will take longer with the advantage of better quality gameplay."
   ]
  },
  {
   "cell_type": "markdown",
   "metadata": {},
   "source": [
    "## Libraries\n",
    "Now we import the necessary libraries. Let's have a rundown of each one and their purpose in this notebook:\n",
    "\n",
    "- keyboard: used to get input in order to play the game.\n",
    "- os: used for saving the frames in a directory.\n",
    "- shutil: used for cleaning up previous frames for the chosen games.\n",
    "- ale_py: main library that allows to play and record frames of lots of different Atari games."
   ]
  },
  {
   "cell_type": "code",
   "execution_count": 1,
   "metadata": {},
   "outputs": [],
   "source": [
    "import keyboard\n",
    "import os\n",
    "import shutil\n",
    "from ale_py import ALEInterface, roms"
   ]
  },
  {
   "cell_type": "markdown",
   "metadata": {},
   "source": [
    "## Utility Functions"
   ]
  },
  {
   "cell_type": "markdown",
   "metadata": {},
   "source": [
    "Now we define a function where, given the game and directory where to put the frames, the enviroment is configured, the frames are recorded and the human agents gives an input for every action until the game ends.\n",
    "\n",
    "The keybinds  for each actions are:\n",
    "- W: NOOP action, used to stay still and move the game forward.\n",
    "- S: FIRE action, used in breakout to start the game after each ball is lost.\n",
    "- A: LEFT action, used to move left.\n",
    "- D: RIGT action, used to move right."
   ]
  },
  {
   "cell_type": "code",
   "execution_count": 2,
   "metadata": {},
   "outputs": [],
   "source": [
    "def save_frames(game, recording_dir):\n",
    "    \"\"\"Function to let ALE play the game and save the frames of the match in a given recording dir.\"\"\"\n",
    "    ale = ALEInterface()\n",
    "    ale.setInt('random_seed', 123)\n",
    "    ale.setBool('display_screen', True) # We display the screen in order for the human player to act.\n",
    "    ale.setBool('sound', False)\n",
    "\n",
    "    ale.setString(\"record_screen_dir\", recording_dir)\n",
    "    ale.loadROM(roms.get_rom_path(game))\n",
    "\n",
    "    # Each action has an assigned number:\n",
    "    # NOOP: 0, FIRE: 1, RIGHT: 3, LEFT: 4\n",
    "    actionDict = {'w': 0, 's': 1, 'd': 3, 'a':4}\n",
    "\n",
    "    while not ale.game_over():\n",
    "        event = keyboard.read_event()\n",
    "        if actionDict.get(event.name, -1) != -1:\n",
    "            action = actionDict.get(event.name, -1)\n",
    "            ale.act(action)\n",
    "    \n",
    "    print(f\"Finished episode. Frames can be found in {recording_dir}.\")\n",
    "\n"
   ]
  },
  {
   "cell_type": "markdown",
   "metadata": {},
   "source": [
    "After defining the previous function we create another one to handle the presence or abscence of the directory where to put the frames in. "
   ]
  },
  {
   "cell_type": "code",
   "execution_count": 3,
   "metadata": {},
   "outputs": [],
   "source": [
    "def choose_and_save(game):\n",
    "    \"\"\"Function to do the whole process of saving frames given a game\"\"\"\n",
    "    # Get all games available\n",
    "    path_to_dir = f'../imgs/{game}/'\n",
    "\n",
    "    if os.path.exists(path_to_dir):\n",
    "        shutil.rmtree(path_to_dir)\n",
    "    if not os.path.exists(path_to_dir):\n",
    "        os.makedirs(path_to_dir)\n",
    "\n",
    "    save_frames(game, path_to_dir)"
   ]
  },
  {
   "cell_type": "markdown",
   "metadata": {},
   "source": [
    "## Breakout Acquisition\n",
    "\n",
    "What remains to be done is simply to execute the functions and save the frames for the Breakout game."
   ]
  },
  {
   "cell_type": "code",
   "execution_count": 7,
   "metadata": {},
   "outputs": [
    {
     "name": "stdout",
     "output_type": "stream",
     "text": [
      "Finished episode. Frames can be found in ../imgs/breakout/.\n"
     ]
    }
   ],
   "source": [
    "choose_and_save('breakout')"
   ]
  },
  {
   "cell_type": "markdown",
   "metadata": {},
   "source": [
    "## Skiing game acquisition\n",
    "\n",
    "What remains to be done is simply to execute the functions and save the frames for the Skiing game.\n"
   ]
  },
  {
   "cell_type": "code",
   "execution_count": 5,
   "metadata": {},
   "outputs": [
    {
     "name": "stdout",
     "output_type": "stream",
     "text": [
      "Finished episode. Frames can be found in ../imgs/skiing/.\n"
     ]
    }
   ],
   "source": [
    "choose_and_save('skiing')"
   ]
  }
 ],
 "metadata": {
  "kernelspec": {
   "display_name": ".venv",
   "language": "python",
   "name": "python3"
  },
  "language_info": {
   "codemirror_mode": {
    "name": "ipython",
    "version": 3
   },
   "file_extension": ".py",
   "mimetype": "text/x-python",
   "name": "python",
   "nbconvert_exporter": "python",
   "pygments_lexer": "ipython3",
   "version": "3.12.8"
  }
 },
 "nbformat": 4,
 "nbformat_minor": 2
}
