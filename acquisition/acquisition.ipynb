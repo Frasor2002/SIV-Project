{
 "cells": [
  {
   "cell_type": "markdown",
   "metadata": {},
   "source": [
    "# Acquisition of image samples\n",
    "Using the Arcade Learning Environment ALE, we acquire frames of Atari games of choice to be further processed.\n",
    "Now we import the libraries used."
   ]
  },
  {
   "cell_type": "code",
   "execution_count": 10,
   "metadata": {},
   "outputs": [],
   "source": [
    "from random import randrange\n",
    "import os\n",
    "import shutil\n",
    "import time\n",
    "from ale_py import ALEInterface, roms"
   ]
  },
  {
   "cell_type": "markdown",
   "metadata": {},
   "source": [
    "This module creates an agent that plays the given game and saves frames in the given recording directory."
   ]
  },
  {
   "cell_type": "code",
   "execution_count": 11,
   "metadata": {},
   "outputs": [],
   "source": [
    "def save_frames(game, recording_dir):\n",
    "    \"\"\"Function to let ALE play the game and save the frames of the match in a given recording dir.\"\"\"\n",
    "    ale = ALEInterface()\n",
    "    ale.setInt('random_seed', 123)\n",
    "    ale.setBool('display_screen', False)\n",
    "    ale.setBool('sound', False)\n",
    "\n",
    "    ale.setString(\"record_screen_dir\", recording_dir)\n",
    "    ale.loadROM(roms.get_rom_path(game))\n",
    "\n",
    "    legal_actions = ale.getLegalActionSet()\n",
    "    num_actions = len(legal_actions)\n",
    "\n",
    "    while not ale.game_over():\n",
    "        a = legal_actions[randrange(num_actions)] # Agent acts completely randomly\n",
    "        ale.act(a)\n",
    "\n",
    "    print(f\"Finished episode. Frames can be found in {recording_dir}\")"
   ]
  },
  {
   "cell_type": "markdown",
   "metadata": {},
   "source": [
    "Here after defining the function we execute It. \n",
    "\n",
    "If the directory given is wrong, no frame is saved."
   ]
  },
  {
   "cell_type": "code",
   "execution_count": 12,
   "metadata": {},
   "outputs": [
    {
     "name": "stdout",
     "output_type": "stream",
     "text": [
      "Finished episode. Frames can be found in ../imgs/breakout/\n"
     ]
    }
   ],
   "source": [
    "# Get all game names available\n",
    "games = roms.get_all_rom_ids()\n",
    "chosen_game = games[18]\n",
    "# Breakout is game 18\n",
    "# Let's load Donkey Kong that is game #29\n",
    "path_to_dir = f'../imgs/{chosen_game}/'\n",
    "if os.path.exists(path_to_dir):\n",
    "    shutil.rmtree(path_to_dir)\n",
    "if not os.path.exists(path_to_dir):\n",
    "    os.makedirs(path_to_dir)\n",
    "\n",
    "save_frames(chosen_game, path_to_dir)"
   ]
  }
 ],
 "metadata": {
  "kernelspec": {
   "display_name": ".venv",
   "language": "python",
   "name": "python3"
  },
  "language_info": {
   "codemirror_mode": {
    "name": "ipython",
    "version": 3
   },
   "file_extension": ".py",
   "mimetype": "text/x-python",
   "name": "python",
   "nbconvert_exporter": "python",
   "pygments_lexer": "ipython3",
   "version": "3.12.7"
  }
 },
 "nbformat": 4,
 "nbformat_minor": 2
}
