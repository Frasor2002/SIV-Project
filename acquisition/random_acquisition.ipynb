{
 "cells": [
  {
   "cell_type": "markdown",
   "metadata": {},
   "source": [
    "# Acquisition of Image Samples with Random Agent"
   ]
  },
  {
   "cell_type": "markdown",
   "metadata": {},
   "source": [
    "## Introduction\n",
    "Using the Arcade Learning Environment ALE, we acquire frames of Atari games of choice to be further processed.\n",
    "\n",
    "This project will study two environments:\n",
    "- Breakout: a simpler game used for simple testing of the processing algortihm\n",
    "- Skiing: a game with more objects in order to test the processing in more complex use cases.\n",
    "\n",
    "This notebook in order to have a faster acquisition plays the games with a random agent. Meaning that the gameplay will be less interesting with the positive aspect that we can produce many frames in a faster time."
   ]
  },
  {
   "cell_type": "markdown",
   "metadata": {},
   "source": [
    "## Libraries\n",
    "Now we import the necessary libraries. Let's have a rundown of each one and their purpose in this notebook:\n",
    "\n",
    "- random: used to create the random agent that acts in the environment.\n",
    "- os: used for saving the frames in a directory.\n",
    "- shutil: used for cleaning up previous frames for the chosen games.\n",
    "- ale_py: main library that allows to play and record frames of lots of different Atari games."
   ]
  },
  {
   "cell_type": "code",
   "execution_count": 6,
   "metadata": {},
   "outputs": [],
   "source": [
    "from random import randrange\n",
    "import os\n",
    "import shutil\n",
    "from ale_py import ALEInterface, roms"
   ]
  },
  {
   "cell_type": "markdown",
   "metadata": {},
   "source": [
    "## Utility Functions"
   ]
  },
  {
   "cell_type": "markdown",
   "metadata": {},
   "source": [
    "Now we define a function where, given the game and directory where to put the frames, the enviroment is configured, the frames are recorded and the random agent acts freely until the game ends."
   ]
  },
  {
   "cell_type": "code",
   "execution_count": 7,
   "metadata": {},
   "outputs": [],
   "source": [
    "def save_frames(game, recording_dir):\n",
    "    \"\"\"Function to let ALE play the game and save the frames of the match in a given recording dir.\"\"\"\n",
    "    ale = ALEInterface()\n",
    "    ale.setInt('random_seed', 123)\n",
    "    ale.setBool('display_screen', False)\n",
    "    ale.setBool('sound', False)\n",
    "\n",
    "    ale.setString(\"record_screen_dir\", recording_dir)\n",
    "    ale.loadROM(roms.get_rom_path(game))\n",
    "\n",
    "    legal_actions = ale.getLegalActionSet()\n",
    "    num_actions = len(legal_actions)\n",
    "\n",
    "    while not ale.game_over():\n",
    "        action = legal_actions[randrange(num_actions)] # Agent acts completely randomly\n",
    "        ale.act(action)\n",
    "    \n",
    "    print(f\"Finished episode. Frames can be found in {recording_dir}.\")"
   ]
  },
  {
   "cell_type": "markdown",
   "metadata": {},
   "source": [
    "After defining the previous function we create another one to handle the presence or abscence of the directory where to put the frames in. "
   ]
  },
  {
   "cell_type": "code",
   "execution_count": 8,
   "metadata": {},
   "outputs": [],
   "source": [
    "def choose_and_save(game, doReplace = False):\n",
    "    \"\"\"Function to do the whole process of saving frames given a game\"\"\"\n",
    "    # Get all games available\n",
    "    path_to_dir = f'../imgs/{game}/'\n",
    "\n",
    "    if os.path.exists(path_to_dir):\n",
    "        shutil.rmtree(path_to_dir)\n",
    "    if not os.path.exists(path_to_dir):\n",
    "        os.makedirs(path_to_dir)\n",
    "\n",
    "    save_frames(game, path_to_dir)"
   ]
  },
  {
   "cell_type": "markdown",
   "metadata": {},
   "source": [
    "## Breakout Acquisition\n",
    "\n",
    "What remains to be done is simply to execute the functions and save the frames for the Breakout game."
   ]
  },
  {
   "cell_type": "code",
   "execution_count": 9,
   "metadata": {},
   "outputs": [
    {
     "name": "stdout",
     "output_type": "stream",
     "text": [
      "Finished episode. Frames can be found in ../imgs/breakout/.\n"
     ]
    }
   ],
   "source": [
    "choose_and_save('breakout')"
   ]
  },
  {
   "cell_type": "markdown",
   "metadata": {},
   "source": [
    "## Skiing Acquisition\n",
    "\n",
    "What remains to be done is simply to execute the functions and save the frames for the Skiing game.\n"
   ]
  },
  {
   "cell_type": "code",
   "execution_count": 10,
   "metadata": {},
   "outputs": [
    {
     "name": "stdout",
     "output_type": "stream",
     "text": [
      "Finished episode. Frames can be found in ../imgs/skiing/.\n"
     ]
    }
   ],
   "source": [
    "choose_and_save('skiing')"
   ]
  }
 ],
 "metadata": {
  "kernelspec": {
   "display_name": ".venv",
   "language": "python",
   "name": "python3"
  },
  "language_info": {
   "codemirror_mode": {
    "name": "ipython",
    "version": 3
   },
   "file_extension": ".py",
   "mimetype": "text/x-python",
   "name": "python",
   "nbconvert_exporter": "python",
   "pygments_lexer": "ipython3",
   "version": "3.12.8"
  }
 },
 "nbformat": 4,
 "nbformat_minor": 2
}
