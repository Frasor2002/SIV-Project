{
 "cells": [
  {
   "cell_type": "markdown",
   "metadata": {},
   "source": [
    "# Frames to video conversion\n",
    "A utility file to convert frames into a video to aid visualization."
   ]
  },
  {
   "cell_type": "code",
   "execution_count": 4,
   "metadata": {},
   "outputs": [],
   "source": [
    "import cv2 as cv\n",
    "import os\n",
    "import shutil"
   ]
  },
  {
   "cell_type": "code",
   "execution_count": 5,
   "metadata": {},
   "outputs": [],
   "source": [
    "def frames_to_video(frames_path, video_path):\n",
    "    img_name = os.listdir(frames_path)\n",
    "    img = []\n",
    "    for i in img_name:\n",
    "        i = frames_path + i\n",
    "        img.append(i)\n",
    "\n",
    "    \n",
    "    cv2_fourcc = cv.VideoWriter_fourcc(*'mp4v')\n",
    "    frame = cv.imread(img[0])\n",
    "    size = list(frame.shape)\n",
    "    del size[2]\n",
    "    size.reverse()\n",
    "\n",
    "    video = cv.VideoWriter(video_path, cv2_fourcc, 24, size)\n",
    "\n",
    "    for i in range(len(img)):\n",
    "        video.write(cv.imread(img[i]))\n",
    "    video.release()\n",
    "\n",
    "\n"
   ]
  },
  {
   "cell_type": "code",
   "execution_count": 6,
   "metadata": {},
   "outputs": [],
   "source": [
    "game = 'breakout' # specify game name\n",
    "frames_path = f'../imgs/{game}/'\n",
    "folder_path = f'../imgs/{game}_video/'\n",
    "video_path = f'../imgs/{game}_video/{game}.mp4'\n",
    "\n",
    "if os.path.exists(folder_path):\n",
    "    shutil.rmtree(folder_path)\n",
    "if not os.path.exists(folder_path):\n",
    "    os.makedirs(folder_path)\n",
    "\n",
    "frames_to_video(frames_path, video_path)"
   ]
  }
 ],
 "metadata": {
  "kernelspec": {
   "display_name": ".venv",
   "language": "python",
   "name": "python3"
  },
  "language_info": {
   "codemirror_mode": {
    "name": "ipython",
    "version": 3
   },
   "file_extension": ".py",
   "mimetype": "text/x-python",
   "name": "python",
   "nbconvert_exporter": "python",
   "pygments_lexer": "ipython3",
   "version": "3.12.7"
  }
 },
 "nbformat": 4,
 "nbformat_minor": 2
}
