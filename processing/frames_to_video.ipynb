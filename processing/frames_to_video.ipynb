{
 "cells": [
  {
   "cell_type": "markdown",
   "metadata": {},
   "source": [
    "# Converting Frames to mp4 Video"
   ]
  },
  {
   "cell_type": "markdown",
   "metadata": {},
   "source": [
    "## Introduction\n",
    "The following laboratory is useful only for visualization purposes since the processing uses the frames and not the video generated.\n",
    "However to have a better view of the episodes in the two games."
   ]
  },
  {
   "cell_type": "markdown",
   "metadata": {},
   "source": [
    "## Libraries\n",
    "Now we import the necessary libraries. Let's have a rundown of each one and their purpose in this notebook:\n",
    "\n",
    "- os: used for saving the video in a directory.\n",
    "- shutil: used for cleaning up previous video for the chosen games.\n",
    "- cv2: module used for image processing that marges multiple frames into an mp4 video."
   ]
  },
  {
   "cell_type": "code",
   "execution_count": 1,
   "metadata": {},
   "outputs": [],
   "source": [
    "import os\n",
    "import shutil\n",
    "import cv2 as cv"
   ]
  },
  {
   "cell_type": "markdown",
   "metadata": {},
   "source": [
    "## Utility Functions"
   ]
  },
  {
   "cell_type": "markdown",
   "metadata": {},
   "source": [
    "Let's define a function in order to merge frames into a single video. \n",
    "\n",
    "This is done by simply reading the frames and then merging them into a single file video."
   ]
  },
  {
   "cell_type": "code",
   "execution_count": 2,
   "metadata": {},
   "outputs": [],
   "source": [
    "def frames_to_video(frames_path, video_path):\n",
    "    \"\"\"\"Function to convert from frames to a video.\"\"\"\n",
    "    # Acquire the frames\n",
    "    img_name = os.listdir(frames_path)\n",
    "    img = []\n",
    "    for i in img_name:\n",
    "        i = frames_path + i\n",
    "        img.append(i)\n",
    "\n",
    "    # Configure the fourcc\n",
    "    cv2_fourcc = cv.VideoWriter_fourcc(*'mp4v')\n",
    "    frame = cv.imread(img[0])\n",
    "    size = list(frame.shape)\n",
    "    del size[2]\n",
    "    size.reverse()\n",
    "\n",
    "    # Merge the frames and save the video\n",
    "    video = cv.VideoWriter(video_path, cv2_fourcc, 24, size)\n",
    "    for i in range(len(img)):\n",
    "        video.write(cv.imread(img[i]))\n",
    "    video.release()"
   ]
  },
  {
   "cell_type": "markdown",
   "metadata": {},
   "source": [
    "The choose_and_merge fuction then allows handling the cases where the directory is missing or other videos are present."
   ]
  },
  {
   "cell_type": "code",
   "execution_count": 3,
   "metadata": {},
   "outputs": [],
   "source": [
    "def choose_and_merge(game):\n",
    "    \"\"\"Function to do the whole process of merging frames given a game name\"\"\"\n",
    "    frames_path = f'../imgs/{game}/'\n",
    "    folder_path = f'../imgs/{game}_video/'\n",
    "    video_path = f'../imgs/{game}_video/{game}.mp4'\n",
    "\n",
    "    if os.path.exists(folder_path):\n",
    "        shutil.rmtree(folder_path)\n",
    "    if not os.path.exists(folder_path):\n",
    "        os.makedirs(folder_path)\n",
    "\n",
    "    frames_to_video(frames_path, video_path)"
   ]
  },
  {
   "cell_type": "markdown",
   "metadata": {},
   "source": [
    "## Obtain all videos\n",
    "Now all we need to do is merge the frames into videos for both games."
   ]
  },
  {
   "cell_type": "code",
   "execution_count": 4,
   "metadata": {},
   "outputs": [],
   "source": [
    "games = ['breakout', 'skiing']\n",
    "\n",
    "for game in games:\n",
    "    choose_and_merge(game)"
   ]
  }
 ],
 "metadata": {
  "kernelspec": {
   "display_name": ".venv",
   "language": "python",
   "name": "python3"
  },
  "language_info": {
   "codemirror_mode": {
    "name": "ipython",
    "version": 3
   },
   "file_extension": ".py",
   "mimetype": "text/x-python",
   "name": "python",
   "nbconvert_exporter": "python",
   "pygments_lexer": "ipython3",
   "version": "3.12.8"
  }
 },
 "nbformat": 4,
 "nbformat_minor": 2
}
